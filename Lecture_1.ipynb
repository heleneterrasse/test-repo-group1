{
  "nbformat": 4,
  "nbformat_minor": 0,
  "metadata": {
    "colab": {
      "provenance": []
    },
    "kernelspec": {
      "name": "python3",
      "display_name": "Python 3"
    },
    "language_info": {
      "name": "python"
    }
  },
  "cells": [
    {
      "cell_type": "code",
      "execution_count": null,
      "metadata": {
        "colab": {
          "base_uri": "https://localhost:8080/"
        },
        "id": "2RQpXHmdC9KH",
        "outputId": "63d9e7f7-e982-4954-ddac-7cb9c5688b4a"
      },
      "outputs": [
        {
          "output_type": "stream",
          "name": "stdout",
          "text": [
            "10\n",
            "20\n"
          ]
        }
      ],
      "source": [
        "print(10)\n",
        "print(10*2)"
      ]
    },
    {
      "cell_type": "code",
      "source": [
        "input(\"enter your name: \")"
      ],
      "metadata": {
        "colab": {
          "base_uri": "https://localhost:8080/",
          "height": 54
        },
        "id": "E3LZK5CXEwnc",
        "outputId": "ddaa4689-7a6d-4d45-bae2-fe9878764f3c"
      },
      "execution_count": null,
      "outputs": [
        {
          "name": "stdout",
          "output_type": "stream",
          "text": [
            "enter your name: hélène\n"
          ]
        },
        {
          "output_type": "execute_result",
          "data": {
            "text/plain": [
              "'hélène'"
            ],
            "application/vnd.google.colaboratory.intrinsic+json": {
              "type": "string"
            }
          },
          "metadata": {},
          "execution_count": 3
        }
      ]
    },
    {
      "cell_type": "code",
      "source": [
        "# print number 10.10\n",
        "print(10.10)"
      ],
      "metadata": {
        "colab": {
          "base_uri": "https://localhost:8080/"
        },
        "id": "1sCnh1leFOuu",
        "outputId": "603d2e22-ad91-4f0d-85fb-7562d0507f86"
      },
      "execution_count": null,
      "outputs": [
        {
          "output_type": "stream",
          "name": "stdout",
          "text": [
            "10.1\n"
          ]
        }
      ]
    },
    {
      "cell_type": "code",
      "source": [
        "x=10\n",
        "age= 18\n",
        "name = \"hélène\"\n",
        "print(name)"
      ],
      "metadata": {
        "colab": {
          "base_uri": "https://localhost:8080/"
        },
        "id": "5467Gib9GZ8s",
        "outputId": "9071e2a8-da8f-4cf4-f536-d98c88c6976b"
      },
      "execution_count": null,
      "outputs": [
        {
          "output_type": "stream",
          "name": "stdout",
          "text": [
            "hélène\n"
          ]
        }
      ]
    },
    {
      "cell_type": "code",
      "source": [
        "city = input(\"where are you from? \")\n",
        "first_name = input(\"what's your first name? \")\n",
        "print (first_name,city)"
      ],
      "metadata": {
        "colab": {
          "base_uri": "https://localhost:8080/"
        },
        "id": "hBzOJLjsG9r0",
        "outputId": "3db926a0-7d2d-4636-bca5-2e023a9cadda"
      },
      "execution_count": null,
      "outputs": [
        {
          "output_type": "stream",
          "name": "stdout",
          "text": [
            "where are you from? caracas\n",
            "what's your first name? hélène\n",
            "hélène caracas\n"
          ]
        }
      ]
    },
    {
      "cell_type": "code",
      "source": [
        "x= float(input(\"enter a number: \"))\n",
        "y= int(input(\"enter a second number: \"))\n",
        "print (\"result is\",x+y)"
      ],
      "metadata": {
        "colab": {
          "base_uri": "https://localhost:8080/"
        },
        "id": "v268ltvIIYVS",
        "outputId": "13b62e3a-c3af-44bd-924c-bf06bd278a5d"
      },
      "execution_count": null,
      "outputs": [
        {
          "output_type": "stream",
          "name": "stdout",
          "text": [
            "enter a number: 34.10\n",
            "enter a second number: 10\n",
            "result is 44.1\n"
          ]
        }
      ]
    },
    {
      "cell_type": "code",
      "source": [
        "x = int(input(\"enter a number: \"))\n",
        "y = int(input(\" enter a second number: \"))\n",
        "z = int(input(\"enter a third number: \"))\n",
        "print (\"the product is:\", x * y * z)"
      ],
      "metadata": {
        "colab": {
          "base_uri": "https://localhost:8080/"
        },
        "id": "ZziCmoXVKLXC",
        "outputId": "c252f69a-4cf7-4551-b085-3150e2afba37"
      },
      "execution_count": null,
      "outputs": [
        {
          "output_type": "stream",
          "name": "stdout",
          "text": [
            "enter a number: 1\n",
            " enter a second number: 2\n",
            "enter a third number: 3\n",
            "the product is: 6\n"
          ]
        }
      ]
    },
    {
      "cell_type": "code",
      "source": [
        "a= float(input(\"enter a number:\"))\n",
        "b= float(input(\"enter a second number:\"))\n",
        "print (a/b)"
      ],
      "metadata": {
        "colab": {
          "base_uri": "https://localhost:8080/"
        },
        "id": "yu1GS_sXK6tv",
        "outputId": "d63802f0-e43f-4f37-8256-07fbb25e0862"
      },
      "execution_count": null,
      "outputs": [
        {
          "output_type": "stream",
          "name": "stdout",
          "text": [
            "enter a number:6\n",
            "enter a second number:3\n",
            "2.0\n"
          ]
        }
      ]
    },
    {
      "cell_type": "code",
      "source": [
        "x = float(input(\"enter a number:\"))\n",
        "y = float(input(\"enter a second number\"))\n",
        "if y==0:\n",
        "  print(\"i cannot divide\")\n",
        "else:\n",
        "  print(x/y)"
      ],
      "metadata": {
        "colab": {
          "base_uri": "https://localhost:8080/"
        },
        "id": "LonSEHXWMZK9",
        "outputId": "97974aa1-c6a0-475a-ae3e-4034dab8d540"
      },
      "execution_count": null,
      "outputs": [
        {
          "output_type": "stream",
          "name": "stdout",
          "text": [
            "enter a number:10\n",
            "enter a second number0\n",
            "i cannot divide\n"
          ]
        }
      ]
    },
    {
      "cell_type": "code",
      "source": [
        "city=input(\"enter a city:\")\n",
        "if city==\"paris\":\n",
        "  print(\"bonjour\")\n",
        "else:\n",
        "  print(\"hi\")"
      ],
      "metadata": {
        "colab": {
          "base_uri": "https://localhost:8080/"
        },
        "id": "rPMCruBxNWyw",
        "outputId": "28a85c3b-bc63-414c-cae4-af8efc17752a"
      },
      "execution_count": null,
      "outputs": [
        {
          "output_type": "stream",
          "name": "stdout",
          "text": [
            "enter a city:london\n",
            "hi\n"
          ]
        }
      ]
    },
    {
      "cell_type": "code",
      "source": [
        "Ex 1: create a program to ask the user their name and age\n",
        "If the user is over 18, print you are and adult, if the user is under 18 print you are a kid"
      ],
      "metadata": {
        "id": "eD7XYaDxR3bt"
      },
      "execution_count": null,
      "outputs": []
    },
    {
      "cell_type": "code",
      "source": [
        "name = input(\"what is your name? \")\n",
        "age = int(input(\"how old are you? \"))\n",
        "if age >= 18:\n",
        "      print(\"you are an adult\",name)\n",
        "else:\n",
        "      print(\"you are a kid\",name)"
      ],
      "metadata": {
        "colab": {
          "base_uri": "https://localhost:8080/"
        },
        "id": "n_ph9_87SSxU",
        "outputId": "18a3a616-7366-400d-ee26-c852a6ed1430"
      },
      "execution_count": null,
      "outputs": [
        {
          "output_type": "stream",
          "name": "stdout",
          "text": [
            "what is your name? hélène\n",
            "how old are you? 18\n",
            "you are an adult hélène\n"
          ]
        }
      ]
    },
    {
      "cell_type": "code",
      "source": [
        "x = int(input(\"enter a number: \"))\n",
        "y = int(input(\"enter a second number: \"))\n",
        "if x>y :\n",
        "  print(\"the maximum number is\", x)\n",
        "else:\n",
        "  print(\"the maximum number is\", y)"
      ],
      "metadata": {
        "colab": {
          "base_uri": "https://localhost:8080/"
        },
        "id": "4wAhISiHUZPJ",
        "outputId": "dd3ec4b0-7e05-40e2-db8f-72f7471c64ae"
      },
      "execution_count": null,
      "outputs": [
        {
          "output_type": "stream",
          "name": "stdout",
          "text": [
            "enter a number: 10\n",
            "enter a second number: 20\n",
            "the maximum number is 20\n"
          ]
        }
      ]
    },
    {
      "cell_type": "code",
      "source": [],
      "metadata": {
        "id": "mFjcGqfRV9vx"
      },
      "execution_count": null,
      "outputs": []
    },
    {
      "cell_type": "code",
      "source": [
        "score = float(input(\"enter a score: \"))\n",
        "if score>0 and score< 50 :\n",
        "  print(\"fail\")\n",
        "elif score>=50 and score<70 :\n",
        "  print(\"pass\")\n",
        "elif score >=70 and score <=100:\n",
        "  print(\"distinction\")\n",
        "else:\n",
        "  print(\"something is wrong\")"
      ],
      "metadata": {
        "colab": {
          "base_uri": "https://localhost:8080/"
        },
        "outputId": "7d7667a5-0c99-4562-af08-58f7a7d47aea",
        "id": "530US0wZWASv"
      },
      "execution_count": null,
      "outputs": [
        {
          "output_type": "stream",
          "name": "stdout",
          "text": [
            "enter a score: 23\n",
            "fail\n"
          ]
        }
      ]
    },
    {
      "cell_type": "code",
      "source": [],
      "metadata": {
        "id": "8GK6YTvKYGLY"
      },
      "execution_count": null,
      "outputs": []
    }
  ]
}