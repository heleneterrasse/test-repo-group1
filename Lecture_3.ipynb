{
  "nbformat": 4,
  "nbformat_minor": 0,
  "metadata": {
    "colab": {
      "provenance": []
    },
    "kernelspec": {
      "name": "python3",
      "display_name": "Python 3"
    },
    "language_info": {
      "name": "python"
    }
  },
  "cells": [
    {
      "cell_type": "code",
      "execution_count": 1,
      "metadata": {
        "colab": {
          "base_uri": "https://localhost:8080/"
        },
        "id": "80gnXwBV4Zbh",
        "outputId": "2104e270-fc62-4cc7-c6ef-2af04d18087b"
      },
      "outputs": [
        {
          "output_type": "stream",
          "name": "stdout",
          "text": [
            "enter a number: 20\n",
            "positive\n"
          ]
        }
      ],
      "source": [
        "num = int(input(\"enter a number: \"))\n",
        "if num>0:\n",
        "  print(\"positive\")\n",
        "else:\n",
        "  print(\"negative or zero\")"
      ]
    },
    {
      "cell_type": "code",
      "source": [
        "num = int(input(\"enter a number: \"))\n",
        "if num>0:\n",
        "  positive= True\n",
        "else:\n",
        "  positive= False"
      ],
      "metadata": {
        "id": "L27fqttl45BM"
      },
      "execution_count": null,
      "outputs": []
    },
    {
      "cell_type": "code",
      "source": [
        "age = int(input(\"how old are you? \"))\n",
        "if age<18:\n",
        "  watch = False\n",
        "else:\n",
        "  watch = True\n",
        "\n",
        "if age>=60:\n",
        "  senior = True\n",
        "else:\n",
        "  senior = False\n",
        "print(age,watch,senior)"
      ],
      "metadata": {
        "colab": {
          "base_uri": "https://localhost:8080/"
        },
        "id": "CFf_sG1G5drm",
        "outputId": "5224cfff-b41d-4365-c3bc-a1059dd43a18"
      },
      "execution_count": 3,
      "outputs": [
        {
          "output_type": "stream",
          "name": "stdout",
          "text": [
            "how old are you? 18\n",
            "18 True False\n"
          ]
        }
      ]
    },
    {
      "cell_type": "code",
      "source": [
        "from concurrent.futures.thread import ThreadPoolExecutor\n",
        "score = int(input(\"enter your score: \"))\n",
        "if score<10:\n",
        "  fail= True\n",
        "else:\n",
        "  fail= False\n",
        "\n",
        "if score>= 15:\n",
        "  distinction = True\n",
        "else:\n",
        "  distinction = False\n",
        "\n",
        "print(score,fail,distinction)"
      ],
      "metadata": {
        "colab": {
          "base_uri": "https://localhost:8080/"
        },
        "id": "kb29j6tr6jFD",
        "outputId": "2b23ccd2-8454-419e-e56e-47059567db73"
      },
      "execution_count": 4,
      "outputs": [
        {
          "output_type": "stream",
          "name": "stdout",
          "text": [
            "enter your score: 12\n",
            "12 False False\n"
          ]
        }
      ]
    },
    {
      "cell_type": "code",
      "source": [
        "temp = int(input(\"enter a temperature: \"))\n",
        "if temp < 20:\n",
        "  heat_on = True\n",
        "else:\n",
        "  heat_on = False\n",
        "\n",
        "if heat == True:\n",
        "  open_windows = False\n",
        "else:\n",
        "  open_windows = True\n",
        "\n",
        "if windows == False:\n",
        "  ventilation = True\n",
        "else:\n",
        "  ventilation = False\n",
        "\n",
        "print(temp,heat_on,open_windows,ventilation)"
      ],
      "metadata": {
        "colab": {
          "base_uri": "https://localhost:8080/"
        },
        "id": "AtgFCjsl7l6Z",
        "outputId": "f14f3d30-bf37-4b6c-ee78-9366d784d401"
      },
      "execution_count": 8,
      "outputs": [
        {
          "output_type": "stream",
          "name": "stdout",
          "text": [
            "enter a temperature: 22\n",
            "22 False True False\n"
          ]
        }
      ]
    },
    {
      "cell_type": "code",
      "source": [
        "students = ['Mary','Tom','Stelios','Kate']\n",
        "scores = [15,12,9,18]\n",
        "print(students[0:2])\n",
        "print(scores[-2])"
      ],
      "metadata": {
        "colab": {
          "base_uri": "https://localhost:8080/"
        },
        "id": "pEhPaEuY9uTI",
        "outputId": "09286485-5b62-4432-9595-a995b3c00da7"
      },
      "execution_count": 14,
      "outputs": [
        {
          "output_type": "stream",
          "name": "stdout",
          "text": [
            "['Mary', 'Tom']\n",
            "9\n"
          ]
        }
      ]
    },
    {
      "cell_type": "code",
      "source": [
        "numbers = [10,20,30,40,50,60,70,80,90]\n",
        "print(numbers[1])\n",
        "print(numbers[-2])\n",
        "print(numbers[0:4])\n",
        "print(numbers[-3:])\n",
        "print(numbers[4:6])"
      ],
      "metadata": {
        "colab": {
          "base_uri": "https://localhost:8080/"
        },
        "id": "LKWyPaiy-8bt",
        "outputId": "fde32958-5eaf-4a10-e401-5e8e041c26c0"
      },
      "execution_count": 24,
      "outputs": [
        {
          "output_type": "stream",
          "name": "stdout",
          "text": [
            "20\n",
            "80\n",
            "[10, 20, 30, 40]\n",
            "[70, 80, 90]\n",
            "[50, 60]\n"
          ]
        }
      ]
    }
  ]
}