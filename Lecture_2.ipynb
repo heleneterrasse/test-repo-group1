{
  "nbformat": 4,
  "nbformat_minor": 0,
  "metadata": {
    "colab": {
      "provenance": []
    },
    "kernelspec": {
      "name": "python3",
      "display_name": "Python 3"
    },
    "language_info": {
      "name": "python"
    }
  },
  "cells": [
    {
      "cell_type": "code",
      "execution_count": null,
      "metadata": {
        "colab": {
          "base_uri": "https://localhost:8080/"
        },
        "id": "5UBdiVAvoRAD",
        "outputId": "f4f4c001-38f5-4b11-a19f-2507f22edd6f"
      },
      "outputs": [
        {
          "output_type": "stream",
          "name": "stdout",
          "text": [
            "enter a number: 2\n",
            "enter a number: 5\n",
            "enter an operation (+,-,*,/,**): **\n",
            "32.0\n"
          ]
        }
      ],
      "source": [
        "x = float(input(\"enter a number: \"))\n",
        "y = float(input(\"enter a number: \"))\n",
        "operation = input(\"enter an operation (+,-,*,/,**): \")\n",
        "if operation == \"+\":\n",
        "  print (x+y)\n",
        "elif operation == \"-\":\n",
        "  print(x-y)\n",
        "elif operation == \"*\":\n",
        "  print(x*y)\n",
        "elif operation == \"/\" and y!= 0 :\n",
        "  print(x/y)\n",
        "elif operation == \"**\":\n",
        "  print(x**y)\n",
        "else:\n",
        "  print(\"I do not support this operation\")"
      ]
    },
    {
      "cell_type": "code",
      "source": [
        "x = float(input(\"enter a number: \"))\n",
        "if x>=0 and x<= 1:\n",
        "  print(x*100,\"%\")\n",
        "else:\n",
        "  print(\"I cannot do it\")"
      ],
      "metadata": {
        "colab": {
          "base_uri": "https://localhost:8080/"
        },
        "id": "sCYIOT7Kr9k_",
        "outputId": "2aea5d0f-476c-41b7-f472-aebd524903a8"
      },
      "execution_count": null,
      "outputs": [
        {
          "output_type": "stream",
          "name": "stdout",
          "text": [
            "enter a number: 0.7\n",
            "70.0 %\n"
          ]
        }
      ]
    },
    {
      "cell_type": "code",
      "source": [
        "text = \"my name is hélène\"\n",
        "print (text[3:7])"
      ],
      "metadata": {
        "colab": {
          "base_uri": "https://localhost:8080/"
        },
        "id": "fCWqlovUtyk-",
        "outputId": "fb2c4b0a-a7aa-4fd6-c5a9-6707a9982294"
      },
      "execution_count": null,
      "outputs": [
        {
          "output_type": "stream",
          "name": "stdout",
          "text": [
            "name\n"
          ]
        }
      ]
    },
    {
      "cell_type": "code",
      "source": [
        "text = \"I live in london\"\n",
        "print(text[-6:])"
      ],
      "metadata": {
        "colab": {
          "base_uri": "https://localhost:8080/"
        },
        "id": "-eubJO4MvjAO",
        "outputId": "db880ad7-96b5-4b14-911b-b9ccde9e2cc7"
      },
      "execution_count": null,
      "outputs": [
        {
          "output_type": "stream",
          "name": "stdout",
          "text": [
            "london\n"
          ]
        }
      ]
    },
    {
      "cell_type": "code",
      "source": [
        "city = input(\"enter a city: \")\n",
        "if city[0]==\"L\":\n",
        "  print(\"Starts with L capital\")\n",
        "else :\n",
        "  print (\"Doesn't start with L capital\")"
      ],
      "metadata": {
        "colab": {
          "base_uri": "https://localhost:8080/"
        },
        "id": "tRil-Uu4w-Nq",
        "outputId": "eb41366c-4dca-44ee-d211-d574537fda70"
      },
      "execution_count": null,
      "outputs": [
        {
          "output_type": "stream",
          "name": "stdout",
          "text": [
            "enter a city: London\n",
            "Starts with L capital\n"
          ]
        }
      ]
    },
    {
      "cell_type": "code",
      "source": [
        "phrase = input(\"enter a phrase: \")\n",
        "if phrase[-1]==\".\":\n",
        "  print(\"All good!\")\n",
        "else:\n",
        "  print(\"you need a dot!\")"
      ],
      "metadata": {
        "colab": {
          "base_uri": "https://localhost:8080/"
        },
        "id": "ijvxQ_BFyDr0",
        "outputId": "9a04c7df-f61c-462f-b061-17c1c3c9b63f"
      },
      "execution_count": null,
      "outputs": [
        {
          "output_type": "stream",
          "name": "stdout",
          "text": [
            "enter a phrase: im from venezuela\n",
            "you need a dot!\n"
          ]
        }
      ]
    }
  ]
}